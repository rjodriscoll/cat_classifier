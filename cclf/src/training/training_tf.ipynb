{
 "cells": [
  {
   "cell_type": "code",
   "execution_count": null,
   "metadata": {},
   "outputs": [],
   "source": [
    "from tensorflow.keras.preprocessing.image import ImageDataGenerator\n",
    "from tensorflow.keras.applications import VGG16\n",
    "from tensorflow.keras.layers import Dense\n",
    "from tensorflow.keras.models import Model\n",
    "from tensorflow.keras.layers import Reshape\n",
    "\n",
    "from tensorflow.keras import layers\n",
    "from tensorflow.keras.layers.experimental import preprocessing\n",
    "from tensorflow.keras.models import Sequential\n",
    "\n",
    "import tensorflow as tf\n",
    "from PIL import Image\n",
    "\n",
    "src_path_train = \"../data/train/\"\n",
    "src_path_test = \"../data/test/\"\n",
    "\n",
    "\n",
    "COLOUR_MODE = \"rgb\"\n",
    "BATCH_SIZE = 8\n",
    "CLASS_MODE = \"categorical\"\n",
    "TARGET_SIZE = (224, 224)\n",
    "\n",
    "assert tf.config.list_physical_devices('GPU')\n",
    "\n",
    "train_data = tf.keras.preprocessing.image_dataset_from_directory(src_path_train,\n",
    "                                                                                label_mode=\"categorical\",\n",
    "                                                                                image_size=TARGET_SIZE)\n",
    "                                                                                \n",
    "test_data = tf.keras.preprocessing.image_dataset_from_directory(src_path_test,\n",
    "                                                                label_mode=\"categorical\",\n",
    "                                                                image_size=TARGET_SIZE,\n",
    "                                                                shuffle=False)\n",
    "\n",
    "# Setup data augmentation\n",
    "data_augmentation = Sequential([\n",
    "  preprocessing.RandomFlip(\"horizontal\"), # randomly flip images on horizontal edge\n",
    "  preprocessing.RandomRotation(0.2), # randomly rotate images by a specific amount\n",
    "  preprocessing.RandomHeight(0.2), # randomly adjust the height of an image by a specific amount\n",
    "  preprocessing.RandomWidth(0.2), # randomly adjust the width of an image by a specific amount\n",
    "  preprocessing.RandomZoom(0.2), # randomly zoom into an image\n",
    "  preprocessing.Rescaling(1./255) \n",
    "], name=\"data_augmentation\")\n",
    "\n",
    "model = tf.keras.applications.EfficientNetB0(include_top=False)\n",
    "\n",
    "inputs = layers.Input(shape=(224, 224, 3), name=\"input_layer\") # shape of input image\n",
    "# x = data_augmentation(inputs) # augment images (only happens during training)\n",
    "x = model(inputs, training=False) # put the base model in inference mode so we can use it to extract features without updating the weights\n",
    "x = layers.GlobalAveragePooling2D(name=\"global_average_pooling\")(x) # pool the outputs of the base model\n",
    "outputs = layers.Dense(len(train_data.class_names), activation=\"softmax\", name=\"output_layer\")(x) # same number of outputs as classes\n",
    "model = tf.keras.Model(inputs, outputs)\n",
    "\n",
    "# Compile\n",
    "model.compile(loss=\"categorical_crossentropy\",\n",
    "              optimizer=tf.keras.optimizers.Adam(), # use Adam with default settings\n",
    "              metrics=[\"accuracy\"])\n",
    "model.fit(train_data,\n",
    "                                           epochs=5, # fit for 5 epochs to keep experiments quick\n",
    "                                           validation_data=test_data,\n",
    "                                           validation_steps=int(0.15 * len(test_data)), # evaluate on smaller portion of test data\n",
    "                                           ) # save best model weights to fil"
   ]
  },
  {
   "cell_type": "markdown",
   "metadata": {},
   "source": []
  },
  {
   "cell_type": "code",
   "execution_count": null,
   "metadata": {},
   "outputs": [],
   "source": []
  }
 ],
 "metadata": {
  "kernelspec": {
   "display_name": "Python 3.9.11 64-bit",
   "language": "python",
   "name": "python3"
  },
  "language_info": {
   "codemirror_mode": {
    "name": "ipython",
    "version": 3
   },
   "file_extension": ".py",
   "mimetype": "text/x-python",
   "name": "python",
   "nbconvert_exporter": "python",
   "pygments_lexer": "ipython3",
   "version": "3.9.11"
  },
  "orig_nbformat": 4,
  "vscode": {
   "interpreter": {
    "hash": "748e94d17ea178bd88fa7222e32cd8a3aee3702bf3f6a8e8cbd3fee18cb98607"
   }
  }
 },
 "nbformat": 4,
 "nbformat_minor": 2
}
